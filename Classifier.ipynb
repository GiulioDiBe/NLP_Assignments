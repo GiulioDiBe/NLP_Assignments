{
 "cells": [
  {
   "cell_type": "markdown",
   "id": "0685ac83-2ec0-4e90-a84b-49350604d500",
   "metadata": {},
   "source": [
    "we import all the modules and libraries that we will need to build the classifier"
   ]
  },
  {
   "cell_type": "code",
   "execution_count": 2,
   "id": "c17d2a5d-eb88-4754-bfde-04af7134cd41",
   "metadata": {},
   "outputs": [],
   "source": [
    "import nltk\n",
    "from nltk.tokenize import sent_tokenize,word_tokenize\n",
    "from nltk.corpus import stopwords\n",
    "from nltk.stem import PorterStemmer, WordNetLemmatizer\n",
    "from nltk import FreqDist, NaiveBayesClassifier\n",
    "\n",
    "import sklearn\n",
    "from sklearn.metrics import confusion_matrix\n",
    "from sklearn.metrics import accuracy_score, precision_score,recall_score, f1_score\n",
    "\n",
    "import string\n",
    "import matplotlib.pyplot as pt\n",
    "from random import seed,shuffle\n"
   ]
  },
  {
   "cell_type": "markdown",
   "id": "5d6df2ca-38f4-4065-b6d8-03a1c1f86945",
   "metadata": {},
   "source": [
    "Next we import the Corpus that we want to classify. In our case we select the genesis Corpus that contains several language versions of the first Book of the bible\n",
    "We select three languages: english,finnish and portuguese. This way we can classify the corpus in english and non english having different languages\n",
    "Of course we will need to get the stopwords for this languages.\n",
    "\n",
    "Also we need to prepare all the features we will use to analyze the corpus that are stemmer and lemmatizer"
   ]
  },
  {
   "cell_type": "code",
   "execution_count": 1,
   "id": "f4351dd6-3898-40dc-a24e-d6e7f7b96ef3",
   "metadata": {},
   "outputs": [],
   "source": [
    "from nltk.corpus import genesis"
   ]
  },
  {
   "cell_type": "markdown",
   "id": "b5dc8a5b-4e78-4aa2-bab9-dfc5a931cd80",
   "metadata": {},
   "source": [
    "After deciding the corpus we need to build up the pipeline that processes the text.\n",
    "As shown below we define 4 functions that implement part of the pipeline. In the specific:\n",
    "\n",
    "1) sent_feat(sent:list[str])\n",
    "Given a sentence (list of strings) we determine if it contains or not the topFreq words.\n",
    "Depending on the words that the sentence contains(which appear as true in this list) we will determine if the sentence we are analyzing is in English or in non-English.\n",
    "\n",
    "2) setLabel(Corpus:list[str],label:int)\n",
    "in this function we set for each sentence a label (0 or 1) that represents respectively non-English and English. We will need to mantain these labels to determine various statistics and metrics of our classifier.\n",
    "\n",
    "3) split(set: list[str],train_set:float)\n",
    "this function splits the entirety of the corpus in trainig and testing sets. The proportion of how much of the corpus is assigned as train set is determined by the train_set float value.\n",
    "\n",
    "4) Proc_corp(corp_name:str,corp_lang:str)\n",
    "Given the corp_name (which text we are going to processes) and the corp_lang(the language in which this text it's written) we start to processes the corpus."
   ]
  },
  {
   "cell_type": "code",
   "execution_count": 3,
   "id": "cd50db96-9e75-40c7-901d-0005c63cf3e1",
   "metadata": {},
   "outputs": [],
   "source": [
    "def sent_feat(sent:list[str]):\n",
    "    return{f'contains({word})':(word in set(sent))for word in topFreq}\n",
    "\n",
    "def setLabel(Corpus:list[str],label:int):\n",
    "    labels = [label for _ in range(len(Corpus))]\n",
    "    labeled_sents = [sent_feat(sent)for sent in Corpus]\n",
    "    return list(zip(labeled_sents,labels))\n",
    "\n",
    "def split(set: list[str],train_set:float):\n",
    "    #index is the threshold that we wil use to divide the entire set of sentences in training and testing set\n",
    "    index = int((train_set/100)*len(set))\n",
    "    return set[:index],set[index:]\n",
    "\n",
    "def Proc_corp(corp_name:str,corp_lang:str):\n",
    "    #we initialize all the needed structures to process each corpora\n",
    "    \n",
    "    # corp: is the actual corpus that we are going to processes\n",
    "    # sents: is the tokenization by sentences of corp\n",
    "    # sent_tok : is the ulterior word tokenization on each sentence. In this way we can processes the words and than rebuild the sentences usig the processed words\n",
    "    # stopW : knowing the language in which the text is written we can remove the stop words of that language.\n",
    "    # processed_sents : the final list of all sentences built with the processed words\n",
    "    \n",
    "    corp = genesis.raw(corp_name)\n",
    "    sents = sent_tokenize(corp)\n",
    "    sent_tok = [word_tokenize(sent) for sent in sents]\n",
    "    stopW =stopwords.words(corp_lang)\n",
    "    processed_sents = []\n",
    "    \n",
    "    #we loop over all sentences and for each one we:\n",
    "        #select all string(words) that are not present in puntuaction, numbers and stop words\n",
    "        #if a word doesn't appear in this 3 groups we can apply stemming and lemmatization(in the specific we use the Porter stemmer and the WordNetLemmatizer)\n",
    "        #after processing, each word is than appended to 2 list:\n",
    "            #1)sent_plus which is the new sentence built with the processed words\n",
    "            #2)all_words which will contain all the words that we process. We will need this to select the most frequent words.\n",
    "        #once we finish building one new sentence we append the forementioned sentece to processed_sents list\n",
    "    for i in range(len(sent_tok)):\n",
    "        sent = sent_tok[i]\n",
    "        sent_plus = []\n",
    "        \n",
    "        for j in range(len(sent)):\n",
    "            w = sent[j]\n",
    "            if(w not in string.punctuation)and(not w.isnumeric()) and (w.casefold() not in stopW):\n",
    "                stemedW=stemmer.stem(w)\n",
    "                lemmedW = lemma.lemmatize(stemedW)\n",
    "                sent_plus.append(lemmedW)\n",
    "                all_words.append(lemmedW)\n",
    "            processed_sents.append(sent_plus)\n",
    "    return processed_sents"
   ]
  },
  {
   "cell_type": "markdown",
   "id": "0f8468c2-55d3-4258-9fe3-02d3805c5c07",
   "metadata": {},
   "source": [
    "In this next cell we implement the main function. \n",
    "In this function we define:\n",
    "\n",
    "    -corps: the list of texts we get from our imported corpus\n",
    "    \n",
    "    -langs: which languages this texts are written in\n",
    "    \n",
    "    -stemmer and lemmatizer(abbreviated as lemma in the code)\n",
    "    \n",
    "    -the lists all_words,setSent and dataset\n",
    "    \n",
    "    -freqs : frequency distribution of all the words in the all_words list\n",
    "    \n",
    "    -topFreq : a list of the top n frequent words. We will use this top frequent words to determine if a sentence is written in English or not\n"
   ]
  },
  {
   "cell_type": "code",
   "execution_count": 4,
   "id": "07f8e27e-ec61-48bf-9a71-251d49aa6225",
   "metadata": {},
   "outputs": [
    {
     "name": "stdout",
     "output_type": "stream",
     "text": [
      "Accuracy: 0.993263\n",
      "Precision:1.000000\n",
      "Recall:0.989446\n",
      "F1 : 0.994695\n"
     ]
    }
   ],
   "source": [
    "if __name__ == \"__main__\":\n",
    "    langs=['english','finnish','portuguese']\n",
    "    corps=['english-kjv.txt','finnish.txt','portuguese.txt']\n",
    "    stemmer = PorterStemmer()\n",
    "    lemma = WordNetLemmatizer()\n",
    "    \n",
    "    all_words=[]\n",
    "    setSent=[]\n",
    "    dataset=[]\n",
    "    \n",
    "    for i, value in enumerate(corps):\n",
    "        setSent.append(Proc_corp(value,langs[i]))\n",
    "    \n",
    "    freqs = FreqDist(all_words)\n",
    "    topFreq = list(freqs)[:1500]\n",
    "    \n",
    "    for i,corp in enumerate(setSent):\n",
    "        if i<2:\n",
    "            dataset.extend(setLabel(corp,1))\n",
    "        else:\n",
    "            dataset.extend(setLabel(corp,0))\n",
    "    seed(1)\n",
    "    #we shuffle the dataset so that both english labeled sentences and non-engish labeled ones will appear in both train_set and test_set when we use the split function\n",
    "    shuffle(dataset)\n",
    "    \n",
    "    train_set,test_set = split(dataset,75)\n",
    "    classifier = NaiveBayesClassifier.train(train_set)\n",
    "    \n",
    "    # this lists will contain the real label associated to a sentence (label_r) and the label the classifier will assign (label_pred)\n",
    "    #we will use this two lists to compute Accuracy,Precision,Recall and F1 scores and also to later plot the confusion matrix\n",
    "    label_r=[]\n",
    "    label_pred=[]\n",
    "    \n",
    "    for i,(sent,lab) in enumerate(test_set):\n",
    "        label_r.append(lab)\n",
    "        label_pred.append(classifier.classify(sent))\n",
    "    \n",
    "    conf_m=confusion_matrix(y_true = label_r,y_pred = label_pred)\n",
    "    \n",
    "    #here we print the metrics that tell us if our classifier is doing well in classifing English and non-English sentences\n",
    "    print('Accuracy: %.6f' % accuracy_score(label_r,label_pred))\n",
    "    print('Precision:%.6f' % precision_score(label_r,label_pred))\n",
    "    print('Recall:%.6f' % recall_score(label_r,label_pred))\n",
    "    print('F1 : %.6f' % f1_score(label_r,label_pred))\n",
    "    \n",
    "    \n"
   ]
  },
  {
   "cell_type": "markdown",
   "id": "5b04ea6a-007a-4c92-8b4c-4bba8820fe7c",
   "metadata": {},
   "source": [
    "After computing the statistics we plot the confusion matrix using our results"
   ]
  },
  {
   "cell_type": "code",
   "execution_count": 7,
   "id": "a6b1c3ea-4eb8-4e73-a5bf-451271a11a08",
   "metadata": {
    "tags": []
   },
   "outputs": [
    {
     "data": {
      "image/png": "[encoded data removed]",
      "text/plain": [
       "<Figure size 500x500 with 1 Axes>"
      ]
     },
     "metadata": {},
     "output_type": "display_data"
    }
   ],
   "source": [
    "fig, ax = pt.subplots(figsize=(5, 5))\n",
    "ax.matshow(conf_m, cmap=pt.cm.Greens, alpha=0.3)\n",
    "    \n",
    "ax.set_xticks(ticks=[0, 1], labels=['NON ENGLISH', 'ENGLISH'])\n",
    "ax.set_yticks(ticks=[0, 1], labels=['NON ENGLISH', 'ENGLISH'], rotation=90, va='center')\n",
    "    \n",
    "for i in range(conf_m.shape[0]):\n",
    "     for j in range(conf_m.shape[1]):\n",
    "            ax.text(x=j, y=i, s=conf_m[i, j], va='center', ha='center', size='xx-large')\n",
    "\n",
    "# set title and label for plotting\n",
    "pt.title('CONFUSION MATRIX', fontsize=25)\n",
    "pt.xlabel('Predict', fontsize=18)\n",
    "pt.ylabel('Real', fontsize=18)\n",
    "pt.show()"
   ]
  }
 ],
 "metadata": {
  "kernelspec": {
   "display_name": "Python 3 (ipykernel)",
   "language": "python",
   "name": "python3"
  },
  "language_info": {
   "codemirror_mode": {
    "name": "ipython",
    "version": 3
   },
   "file_extension": ".py",
   "mimetype": "text/x-python",
   "name": "python",
   "nbconvert_exporter": "python",
   "pygments_lexer": "ipython3",
   "version": "3.9.12"
  }
 },
 "nbformat": 4,
 "nbformat_minor": 5
}
